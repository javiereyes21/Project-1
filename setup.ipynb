{
 "cells": [
  {
   "cell_type": "code",
   "execution_count": 1,
   "id": "0609df85-ae75-4e1a-8fe0-8af8cee640b2",
   "metadata": {},
   "outputs": [],
   "source": [
    "# Depdenencies\n",
    "import pandas as pd\n",
    "import requests\n",
    "import json"
   ]
  },
  {
   "cell_type": "code",
   "execution_count": 2,
   "id": "b1781732-6096-4702-b394-19a98979c9b2",
   "metadata": {},
   "outputs": [],
   "source": [
    "# IMPORT VIA API from Kaggle"
   ]
  },
  {
   "cell_type": "code",
   "execution_count": 3,
   "id": "8e588f1a-6ffd-431a-b12b-6b6327752af8",
   "metadata": {},
   "outputs": [],
   "source": [
    "# TEMPORARY to be replaced by API above\n",
    "# import csv\n",
    "device_usage_df = pd.read_csv('smart_home_device_usage_data.csv')\n",
    "# device_usage_df.head()"
   ]
  },
  {
   "cell_type": "code",
   "execution_count": 4,
   "id": "5cb335db-1cc0-478e-8bd4-a56b59089eb1",
   "metadata": {},
   "outputs": [],
   "source": [
    "# add column calced\n",
    "device_usage_df[\"EnergyConsumptionHR\"] = device_usage_df[\"EnergyConsumption\"] / device_usage_df[\"UsageHoursPerDay\"]\n",
    "# device_usage_df.head()"
   ]
  },
  {
   "cell_type": "code",
   "execution_count": 5,
   "id": "d91071ea-81e3-475b-9411-58b36962b394",
   "metadata": {},
   "outputs": [],
   "source": [
    "# set UserID as index\n",
    "device_usage_df = device_usage_df.set_index(\"UserID\")"
   ]
  },
  {
   "cell_type": "code",
   "execution_count": 6,
   "id": "b46b6e60-7db3-41b4-9495-fa8cef8b9ba5",
   "metadata": {},
   "outputs": [
    {
     "data": {
      "text/html": [
       "<div>\n",
       "<style scoped>\n",
       "    .dataframe tbody tr th:only-of-type {\n",
       "        vertical-align: middle;\n",
       "    }\n",
       "\n",
       "    .dataframe tbody tr th {\n",
       "        vertical-align: top;\n",
       "    }\n",
       "\n",
       "    .dataframe thead th {\n",
       "        text-align: right;\n",
       "    }\n",
       "</style>\n",
       "<table border=\"1\" class=\"dataframe\">\n",
       "  <thead>\n",
       "    <tr style=\"text-align: right;\">\n",
       "      <th></th>\n",
       "      <th>DeviceType</th>\n",
       "      <th>UsageHoursPerDay</th>\n",
       "      <th>EnergyConsumption</th>\n",
       "      <th>UserPreferences</th>\n",
       "      <th>MalfunctionIncidents</th>\n",
       "      <th>DeviceAgeMonths</th>\n",
       "      <th>SmartHomeEfficiency</th>\n",
       "      <th>EnergyConsumptionHR</th>\n",
       "    </tr>\n",
       "    <tr>\n",
       "      <th>UserID</th>\n",
       "      <th></th>\n",
       "      <th></th>\n",
       "      <th></th>\n",
       "      <th></th>\n",
       "      <th></th>\n",
       "      <th></th>\n",
       "      <th></th>\n",
       "      <th></th>\n",
       "    </tr>\n",
       "  </thead>\n",
       "  <tbody>\n",
       "    <tr>\n",
       "      <th>1</th>\n",
       "      <td>Smart Speaker</td>\n",
       "      <td>15.307188</td>\n",
       "      <td>1.961607</td>\n",
       "      <td>1</td>\n",
       "      <td>4</td>\n",
       "      <td>36</td>\n",
       "      <td>1</td>\n",
       "      <td>0.128149</td>\n",
       "    </tr>\n",
       "    <tr>\n",
       "      <th>2</th>\n",
       "      <td>Camera</td>\n",
       "      <td>19.973343</td>\n",
       "      <td>8.610689</td>\n",
       "      <td>1</td>\n",
       "      <td>0</td>\n",
       "      <td>29</td>\n",
       "      <td>1</td>\n",
       "      <td>0.431109</td>\n",
       "    </tr>\n",
       "    <tr>\n",
       "      <th>3</th>\n",
       "      <td>Security System</td>\n",
       "      <td>18.911535</td>\n",
       "      <td>2.651777</td>\n",
       "      <td>1</td>\n",
       "      <td>0</td>\n",
       "      <td>20</td>\n",
       "      <td>1</td>\n",
       "      <td>0.140220</td>\n",
       "    </tr>\n",
       "    <tr>\n",
       "      <th>4</th>\n",
       "      <td>Camera</td>\n",
       "      <td>7.011127</td>\n",
       "      <td>2.341653</td>\n",
       "      <td>0</td>\n",
       "      <td>3</td>\n",
       "      <td>15</td>\n",
       "      <td>0</td>\n",
       "      <td>0.333991</td>\n",
       "    </tr>\n",
       "    <tr>\n",
       "      <th>5</th>\n",
       "      <td>Camera</td>\n",
       "      <td>22.610684</td>\n",
       "      <td>4.859069</td>\n",
       "      <td>1</td>\n",
       "      <td>3</td>\n",
       "      <td>36</td>\n",
       "      <td>1</td>\n",
       "      <td>0.214901</td>\n",
       "    </tr>\n",
       "  </tbody>\n",
       "</table>\n",
       "</div>"
      ],
      "text/plain": [
       "             DeviceType  UsageHoursPerDay  EnergyConsumption  UserPreferences  \\\n",
       "UserID                                                                          \n",
       "1         Smart Speaker         15.307188           1.961607                1   \n",
       "2                Camera         19.973343           8.610689                1   \n",
       "3       Security System         18.911535           2.651777                1   \n",
       "4                Camera          7.011127           2.341653                0   \n",
       "5                Camera         22.610684           4.859069                1   \n",
       "\n",
       "        MalfunctionIncidents  DeviceAgeMonths  SmartHomeEfficiency  \\\n",
       "UserID                                                               \n",
       "1                          4               36                    1   \n",
       "2                          0               29                    1   \n",
       "3                          0               20                    1   \n",
       "4                          3               15                    0   \n",
       "5                          3               36                    1   \n",
       "\n",
       "        EnergyConsumptionHR  \n",
       "UserID                       \n",
       "1                  0.128149  \n",
       "2                  0.431109  \n",
       "3                  0.140220  \n",
       "4                  0.333991  \n",
       "5                  0.214901  "
      ]
     },
     "execution_count": 6,
     "metadata": {},
     "output_type": "execute_result"
    }
   ],
   "source": [
    "device_usage_df.head()"
   ]
  },
  {
   "cell_type": "code",
   "execution_count": 7,
   "id": "aa419f4a-c5a5-45f6-bf61-1481f31a6e3f",
   "metadata": {},
   "outputs": [
    {
     "data": {
      "text/plain": [
       "DeviceType              5403\n",
       "UsageHoursPerDay        5403\n",
       "EnergyConsumption       5403\n",
       "UserPreferences         5403\n",
       "MalfunctionIncidents    5403\n",
       "DeviceAgeMonths         5403\n",
       "SmartHomeEfficiency     5403\n",
       "EnergyConsumptionHR     5403\n",
       "dtype: int64"
      ]
     },
     "execution_count": 7,
     "metadata": {},
     "output_type": "execute_result"
    }
   ],
   "source": [
    "# CLEAN Check .count() & drop nan\n",
    "device_usage_df.count()"
   ]
  },
  {
   "cell_type": "code",
   "execution_count": 8,
   "id": "c27cc0ea-427c-4209-90f1-71f3492ca61c",
   "metadata": {},
   "outputs": [
    {
     "data": {
      "text/plain": [
       "DeviceType               object\n",
       "UsageHoursPerDay        float64\n",
       "EnergyConsumption       float64\n",
       "UserPreferences           int64\n",
       "MalfunctionIncidents      int64\n",
       "DeviceAgeMonths           int64\n",
       "SmartHomeEfficiency       int64\n",
       "EnergyConsumptionHR     float64\n",
       "dtype: object"
      ]
     },
     "execution_count": 8,
     "metadata": {},
     "output_type": "execute_result"
    }
   ],
   "source": [
    "# CLEAN check and convert data types as necessary\n",
    "device_usage_df.dtypes"
   ]
  },
  {
   "cell_type": "code",
   "execution_count": 19,
   "id": "646eb068-c825-4844-b82a-87b820485463",
   "metadata": {},
   "outputs": [
    {
     "name": "stdout",
     "output_type": "stream",
     "text": [
      "Empty DataFrame\n",
      "Columns: [DeviceType, UsageHoursPerDay, EnergyConsumption, UserPreferences, MalfunctionIncidents, DeviceAgeMonths, SmartHomeEfficiency, EnergyConsumptionHR]\n",
      "Index: []\n"
     ]
    }
   ],
   "source": [
    "# CLEAN check for Dups & rename/eliminate\n",
    "dups = device_usage_df.loc[device_usage_df.duplicated() == True]\n",
    "print(dups)"
   ]
  },
  {
   "cell_type": "code",
   "execution_count": 13,
   "id": "d8712455-6218-42dd-bc68-8048f3b9492a",
   "metadata": {},
   "outputs": [
    {
     "data": {
      "text/plain": [
       "array(['Smart Speaker', 'Camera', 'Security System', 'Thermostat',\n",
       "       'Lights'], dtype=object)"
      ]
     },
     "execution_count": 13,
     "metadata": {},
     "output_type": "execute_result"
    }
   ],
   "source": [
    "# CLEAN check for device type misspellings & rename/eliminate\n",
    "device_usage_df[\"DeviceType\"].unique()"
   ]
  },
  {
   "cell_type": "code",
   "execution_count": 20,
   "id": "12441df1-c193-46cb-aafd-56a2594ed61d",
   "metadata": {},
   "outputs": [],
   "source": [
    "# export clean file back to csv\n",
    "device_usage_df.to_csv(\"cleaned_device_data.csv\", index_label=\"UserID\")"
   ]
  },
  {
   "cell_type": "code",
   "execution_count": null,
   "id": "e0685488-bffd-458f-8819-2058549fc74e",
   "metadata": {},
   "outputs": [],
   "source": []
  }
 ],
 "metadata": {
  "kernelspec": {
   "display_name": "Python 3 (ipykernel)",
   "language": "python",
   "name": "python3"
  },
  "language_info": {
   "codemirror_mode": {
    "name": "ipython",
    "version": 3
   },
   "file_extension": ".py",
   "mimetype": "text/x-python",
   "name": "python",
   "nbconvert_exporter": "python",
   "pygments_lexer": "ipython3",
   "version": "3.11.7"
  }
 },
 "nbformat": 4,
 "nbformat_minor": 5
}
